{
 "cells": [
  {
   "cell_type": "markdown",
   "metadata": {},
   "source": [
    "# 排列組合、機率、圖論"
   ]
  },
  {
   "cell_type": "markdown",
   "metadata": {},
   "source": [
    "This file was done under SageMath version 8.4 and Jupyter 4.4.0.  \n",
    "(Run the cell at the bottom of this page first.)"
   ]
  },
  {
   "cell_type": "markdown",
   "metadata": {},
   "source": [
    "## 1. Sage 簡介\n",
    "[SageMath](http://www.sagemath.org/) 又稱 Sage，是一套 Python 上的**代數系統**，由美國數學家 William Stein 為首的團隊建立，目的為建立一套開源、免費、且便於合作的數學軟體。\n",
    "\n",
    "Sage 的命名為 System for Algebra and Geometry Experimentation 字首的縮寫。\n",
    "\n",
    "Sage 的基本指令可以參考 [Sage Basics](http://jephianlin.github.io/SageBasics.pdf) 或 [A Tour of Sage](https://doc.sagemath.org/html/en/a_tour_of_sage/)。"
   ]
  },
  {
   "cell_type": "markdown",
   "metadata": {},
   "source": [
    "**起手式：**按 `shift+enter` 來執行指令。"
   ]
  },
  {
   "cell_type": "markdown",
   "metadata": {},
   "source": [
    "**加減乘除** `+` `-` `*` `/`"
   ]
  },
  {
   "cell_type": "code",
   "execution_count": null,
   "metadata": {},
   "outputs": [],
   "source": [
    "1+1"
   ]
  },
  {
   "cell_type": "markdown",
   "metadata": {},
   "source": [
    "**次方** `^`"
   ]
  },
  {
   "cell_type": "code",
   "execution_count": null,
   "metadata": {
    "scrolled": true
   },
   "outputs": [],
   "source": [
    "2^10"
   ]
  },
  {
   "cell_type": "markdown",
   "metadata": {},
   "source": [
    "**商和餘數** `//` `%`"
   ]
  },
  {
   "cell_type": "code",
   "execution_count": null,
   "metadata": {},
   "outputs": [],
   "source": [
    "38 // 5"
   ]
  },
  {
   "cell_type": "code",
   "execution_count": null,
   "metadata": {},
   "outputs": [],
   "source": [
    "38 % 5"
   ]
  },
  {
   "cell_type": "markdown",
   "metadata": {},
   "source": [
    "用 `var` 設定**未知數**"
   ]
  },
  {
   "cell_type": "code",
   "execution_count": null,
   "metadata": {},
   "outputs": [],
   "source": [
    "x = var('x')"
   ]
  },
  {
   "cell_type": "markdown",
   "metadata": {},
   "source": [
    "定義數學裡的**函數**"
   ]
  },
  {
   "cell_type": "code",
   "execution_count": null,
   "metadata": {},
   "outputs": [],
   "source": [
    "f(x) = x^2 + 1"
   ]
  },
  {
   "cell_type": "markdown",
   "metadata": {},
   "source": [
    "plot a function"
   ]
  },
  {
   "cell_type": "code",
   "execution_count": null,
   "metadata": {},
   "outputs": [],
   "source": [
    "f.plot()"
   ]
  },
  {
   "cell_type": "markdown",
   "metadata": {},
   "source": [
    "用 `.differentiate()` 計算**微分**"
   ]
  },
  {
   "cell_type": "code",
   "execution_count": null,
   "metadata": {},
   "outputs": [],
   "source": [
    "f.differentiate()"
   ]
  },
  {
   "cell_type": "code",
   "execution_count": null,
   "metadata": {
    "scrolled": true
   },
   "outputs": [],
   "source": [
    "f.differentiate().plot()"
   ]
  },
  {
   "cell_type": "markdown",
   "metadata": {},
   "source": [
    "代入**求函數值**"
   ]
  },
  {
   "cell_type": "code",
   "execution_count": null,
   "metadata": {},
   "outputs": [],
   "source": [
    "f(2)"
   ]
  },
  {
   "cell_type": "code",
   "execution_count": null,
   "metadata": {},
   "outputs": [],
   "source": [
    "f(-2)"
   ]
  },
  {
   "cell_type": "markdown",
   "metadata": {},
   "source": [
    "**虛數** `I`"
   ]
  },
  {
   "cell_type": "code",
   "execution_count": null,
   "metadata": {},
   "outputs": [],
   "source": [
    "I^2"
   ]
  },
  {
   "cell_type": "markdown",
   "metadata": {},
   "source": [
    "函數也可代入虛數"
   ]
  },
  {
   "cell_type": "code",
   "execution_count": null,
   "metadata": {
    "scrolled": false
   },
   "outputs": [],
   "source": [
    "f(I)"
   ]
  },
  {
   "cell_type": "markdown",
   "metadata": {},
   "source": [
    "虛數的代數運算"
   ]
  },
  {
   "cell_type": "code",
   "execution_count": null,
   "metadata": {},
   "outputs": [],
   "source": [
    "(1 + I)^10"
   ]
  },
  {
   "cell_type": "code",
   "execution_count": null,
   "metadata": {},
   "outputs": [],
   "source": [
    "(3 + I) / (2 - I)"
   ]
  },
  {
   "cell_type": "code",
   "execution_count": null,
   "metadata": {},
   "outputs": [],
   "source": [
    "(2 - I) * (I + 1)"
   ]
  },
  {
   "cell_type": "markdown",
   "metadata": {},
   "source": [
    "**多項式分解**"
   ]
  },
  {
   "cell_type": "code",
   "execution_count": null,
   "metadata": {},
   "outputs": [],
   "source": [
    "p = x^2 + 2*x + 1"
   ]
  },
  {
   "cell_type": "code",
   "execution_count": null,
   "metadata": {},
   "outputs": [],
   "source": [
    "p.factor()"
   ]
  },
  {
   "cell_type": "code",
   "execution_count": null,
   "metadata": {},
   "outputs": [],
   "source": [
    "p = x^3 + 6*x^2 + 11*x + 6"
   ]
  },
  {
   "cell_type": "code",
   "execution_count": null,
   "metadata": {},
   "outputs": [],
   "source": [
    "p.factor()"
   ]
  },
  {
   "cell_type": "markdown",
   "metadata": {},
   "source": [
    "**多項式展開**"
   ]
  },
  {
   "cell_type": "code",
   "execution_count": null,
   "metadata": {},
   "outputs": [],
   "source": [
    "p = (1+x)^10"
   ]
  },
  {
   "cell_type": "code",
   "execution_count": null,
   "metadata": {},
   "outputs": [],
   "source": [
    "p.expand()"
   ]
  },
  {
   "cell_type": "markdown",
   "metadata": {},
   "source": [
    "電腦（computer）和計算機（calculator）本質上是一樣的。\n",
    "\n",
    "有些事情適合人腦，如邏輯推演。  \n",
    "有些事情適合電腦，如有規律的運算。\n",
    "\n",
    "重點在於如何在這**兩者中取得最大效能**！"
   ]
  },
  {
   "cell_type": "markdown",
   "metadata": {},
   "source": [
    "## 2. 基本程式設計\n",
    "* `for` 迴圈：跑遍所有可能性\n",
    "* `if` 判斷式：決定哪些要做\n",
    "* `def` 定義函數：將重覆的工作建立 SOP"
   ]
  },
  {
   "cell_type": "markdown",
   "metadata": {},
   "source": [
    "### `for` 迴圈"
   ]
  },
  {
   "cell_type": "markdown",
   "metadata": {},
   "source": [
    "**陣列**"
   ]
  },
  {
   "cell_type": "code",
   "execution_count": null,
   "metadata": {},
   "outputs": [],
   "source": [
    "a = [2,3,5,7,11]"
   ]
  },
  {
   "cell_type": "code",
   "execution_count": null,
   "metadata": {},
   "outputs": [],
   "source": [
    "a[0]"
   ]
  },
  {
   "cell_type": "markdown",
   "metadata": {},
   "source": [
    "`range(a,b)` 會跑遍 `a` 到 `b-1` 的所有整數"
   ]
  },
  {
   "cell_type": "code",
   "execution_count": null,
   "metadata": {},
   "outputs": [],
   "source": [
    "range(1,10)"
   ]
  },
  {
   "cell_type": "markdown",
   "metadata": {},
   "source": [
    "`for` 迴圈**語法**\n",
    "```Python\n",
    "for 變數 in 陣列: \n",
    "    一些指令1\n",
    "    一些指令2\n",
    "    一些指令3\n",
    "```"
   ]
  },
  {
   "cell_type": "code",
   "execution_count": null,
   "metadata": {},
   "outputs": [],
   "source": [
    "for k in range(1,11):\n",
    "    print(k)"
   ]
  },
  {
   "cell_type": "markdown",
   "metadata": {},
   "source": [
    "取 1 到 10 的和"
   ]
  },
  {
   "cell_type": "code",
   "execution_count": null,
   "metadata": {},
   "outputs": [],
   "source": [
    "total = 0\n",
    "for k in range(1,11):\n",
    "    total = total + k\n",
    "    \n",
    "total"
   ]
  },
  {
   "cell_type": "markdown",
   "metadata": {},
   "source": [
    "### `if` 判斷式"
   ]
  },
  {
   "cell_type": "markdown",
   "metadata": {},
   "source": [
    "**數字比大小**"
   ]
  },
  {
   "cell_type": "code",
   "execution_count": null,
   "metadata": {},
   "outputs": [],
   "source": [
    "3 > 5"
   ]
  },
  {
   "cell_type": "code",
   "execution_count": null,
   "metadata": {},
   "outputs": [],
   "source": [
    "3 == 3"
   ]
  },
  {
   "cell_type": "markdown",
   "metadata": {},
   "source": [
    "**是否為質數**"
   ]
  },
  {
   "cell_type": "code",
   "execution_count": null,
   "metadata": {},
   "outputs": [],
   "source": [
    "is_prime(7)"
   ]
  },
  {
   "cell_type": "markdown",
   "metadata": {},
   "source": [
    "**是否為因數**"
   ]
  },
  {
   "cell_type": "code",
   "execution_count": null,
   "metadata": {},
   "outputs": [],
   "source": [
    "100 % 3 == 0"
   ]
  },
  {
   "cell_type": "markdown",
   "metadata": {},
   "source": [
    "`if` 判斷式**語法**\n",
    "```Python\n",
    "if 一個測試:\n",
    "    一些指令1 \n",
    "    一些指令2\n",
    "    一些指令3\n",
    "```"
   ]
  },
  {
   "cell_type": "code",
   "execution_count": null,
   "metadata": {},
   "outputs": [],
   "source": [
    "k = 10\n",
    "if is_prime(k):\n",
    "    print(k)"
   ]
  },
  {
   "cell_type": "markdown",
   "metadata": {},
   "source": [
    "把 1 到 100 的質數都列出來"
   ]
  },
  {
   "cell_type": "code",
   "execution_count": null,
   "metadata": {},
   "outputs": [],
   "source": [
    "for k in range(1,101):\n",
    "    if is_prime(k):\n",
    "        print(k)"
   ]
  },
  {
   "cell_type": "markdown",
   "metadata": {},
   "source": [
    "數一數有幾個"
   ]
  },
  {
   "cell_type": "code",
   "execution_count": null,
   "metadata": {},
   "outputs": [],
   "source": [
    "counter = 0\n",
    "for k in range(1,101):\n",
    "    if is_prime(k):\n",
    "        counter = counter + 1\n",
    "print(counter)"
   ]
  },
  {
   "cell_type": "markdown",
   "metadata": {},
   "source": [
    "函數可以將一連串的工作封包起來：拿一些參數、做一些事、然後再吐出一些結果  \n",
    "為了有別於數學的函數，也有人稱程式的函數為**函式**\n",
    "\n",
    "`def` 定義函數**語法**\n",
    "```Python\n",
    "def function_name(參數1, 參數2, 參數3):\n",
    "    拿參數做一些事\n",
    "    return 結果\n",
    "```"
   ]
  },
  {
   "cell_type": "code",
   "execution_count": null,
   "metadata": {},
   "outputs": [],
   "source": [
    "def count_prime(M):\n",
    "    counter = 0\n",
    "    for k in range(1,M+1):\n",
    "        if is_prime(k):\n",
    "            counter = counter + 1\n",
    "    return counter"
   ]
  },
  {
   "cell_type": "code",
   "execution_count": null,
   "metadata": {},
   "outputs": [],
   "source": [
    "count_prime(100)"
   ]
  },
  {
   "cell_type": "markdown",
   "metadata": {},
   "source": [
    "可以試試看，質數的個數增長並沒有很快"
   ]
  },
  {
   "cell_type": "code",
   "execution_count": null,
   "metadata": {},
   "outputs": [],
   "source": [
    "count_prime(1000)"
   ]
  },
  {
   "cell_type": "markdown",
   "metadata": {},
   "source": [
    "## 3. 排列組合"
   ]
  },
  {
   "cell_type": "markdown",
   "metadata": {},
   "source": [
    "如果 $0\\leq x_1,x_2,x_3\\leq 5$  \n",
    "方程式 $x_1+x_2+x_3 = 10$ 有幾組整數解？"
   ]
  },
  {
   "cell_type": "code",
   "execution_count": null,
   "metadata": {},
   "outputs": [],
   "source": [
    "counter = 0\n",
    "for x1 in range(6):\n",
    "    for x2 in range(6):\n",
    "        for x3 in range(6):\n",
    "            if x1+x2+x3 == 10:\n",
    "                counter = counter + 1\n",
    "counter"
   ]
  },
  {
   "cell_type": "markdown",
   "metadata": {},
   "source": [
    "另解：`p` 的 $x^{10}$ 係數就是答案\n",
    "\n",
    "為什麼？"
   ]
  },
  {
   "cell_type": "code",
   "execution_count": null,
   "metadata": {},
   "outputs": [],
   "source": [
    "p = (1 + x + x^2 + x^3 + x^4 + x^5)^3\n",
    "p.expand()"
   ]
  },
  {
   "cell_type": "markdown",
   "metadata": {},
   "source": [
    "如果  \n",
    "$0\\leq x_1 \\leq 5$,  \n",
    "$3\\leq x_2 \\leq 8$,  \n",
    "$5\\leq x_3 \\leq 10$  \n",
    "方程式 $x_1+x_2+x_3 = 10$ 有幾組整數解？"
   ]
  },
  {
   "cell_type": "code",
   "execution_count": null,
   "metadata": {},
   "outputs": [],
   "source": [
    "counter = 0\n",
    "for x1 in range(6):\n",
    "    for x2 in range(3,9):\n",
    "        for x3 in range(5,11):\n",
    "            if x1+x2+x3 == 10:\n",
    "                counter = counter + 1\n",
    "counter"
   ]
  },
  {
   "cell_type": "markdown",
   "metadata": {},
   "source": [
    "另解：`p1 * p2 * p3 ` 的 $x^{10}$ 係數就是答案\n",
    "\n",
    "為什麼？"
   ]
  },
  {
   "cell_type": "code",
   "execution_count": null,
   "metadata": {},
   "outputs": [],
   "source": [
    "p1 = (1 + x + x^2 + x^3 + x^4 + x^5)\n",
    "p2 = (x^3 + x^4 + x^5 + x^6 + x^7 + x^8)\n",
    "p3 = (x^5 + x^6 + x^7 + x^8 + x^9 + x^10)\n",
    "p = p1 * p2 * p3 \n",
    "p.expand()"
   ]
  },
  {
   "cell_type": "markdown",
   "metadata": {},
   "source": [
    "## 4. 機率"
   ]
  },
  {
   "cell_type": "markdown",
   "metadata": {},
   "source": [
    "Python 的 `random` 套件裡有許多函數  \n",
    "可以生成隨機的數值"
   ]
  },
  {
   "cell_type": "code",
   "execution_count": null,
   "metadata": {},
   "outputs": [],
   "source": [
    "import random"
   ]
  },
  {
   "cell_type": "markdown",
   "metadata": {},
   "source": [
    "`random.randint(a,b)` 會在 `a` 到 `b` 的整數中  \n",
    "隨機生成一個數（包含 `a` 和 `b`）"
   ]
  },
  {
   "cell_type": "code",
   "execution_count": null,
   "metadata": {},
   "outputs": [],
   "source": [
    "random.randint(1,6)"
   ]
  },
  {
   "cell_type": "markdown",
   "metadata": {},
   "source": [
    "建立一些骰子，我們來看看  \n",
    "它們是不是公正的骰子"
   ]
  },
  {
   "cell_type": "code",
   "execution_count": null,
   "metadata": {},
   "outputs": [],
   "source": [
    "### create a fair dice\n",
    "def roll_fair_dice():\n",
    "    return random.randint(1,6)\n",
    "\n",
    "### create Jephian's dice\n",
    "random.seed(10)\n",
    "my_secret = random.randint(1,6)\n",
    "random.seed(None)\n",
    "\n",
    "def roll_Jephian_dice():\n",
    "    num_space = [1,2,3] + [my_secret] * 4 + [4,5,6]\n",
    "    rind = random.randint(0,len(num_space)-1)\n",
    "    return num_space[rind]"
   ]
  },
  {
   "cell_type": "code",
   "execution_count": null,
   "metadata": {},
   "outputs": [],
   "source": [
    "record = [0] * 6\n",
    "for i in range(60000):\n",
    "    k = roll_fair_dice()\n",
    "    record[k-1] += 1\n",
    "record"
   ]
  },
  {
   "cell_type": "code",
   "execution_count": null,
   "metadata": {},
   "outputs": [],
   "source": [
    "roll_Jephian_dice()"
   ]
  },
  {
   "cell_type": "code",
   "execution_count": null,
   "metadata": {},
   "outputs": [],
   "source": [
    "record = [0] * 6\n",
    "for i in range(60000):\n",
    "    k = roll_Jephian_dice()\n",
    "    record[k-1] += 1\n",
    "record"
   ]
  },
  {
   "cell_type": "markdown",
   "metadata": {},
   "source": [
    "估算 Jephian's dice  \n",
    "丟到各數字的機率"
   ]
  },
  {
   "cell_type": "code",
   "execution_count": null,
   "metadata": {},
   "outputs": [],
   "source": [
    "[N(freq/60000, digits=3) for freq in record]"
   ]
  },
  {
   "cell_type": "markdown",
   "metadata": {},
   "source": [
    "公正骰子平均要丟幾次才會丟到 1？（期望值）"
   ]
  },
  {
   "cell_type": "code",
   "execution_count": null,
   "metadata": {},
   "outputs": [],
   "source": [
    "num = 0\n",
    "times = 0\n",
    "while num != 1:\n",
    "    times = times + 1\n",
    "    num = roll_fair_dice()\n",
    "\n",
    "times"
   ]
  },
  {
   "cell_type": "code",
   "execution_count": null,
   "metadata": {},
   "outputs": [],
   "source": [
    "def get_a_one():\n",
    "    num = 0\n",
    "    times = 0\n",
    "    while num != 1:\n",
    "        times = times + 1\n",
    "        num = roll_fair_dice()\n",
    "    return times"
   ]
  },
  {
   "cell_type": "code",
   "execution_count": null,
   "metadata": {},
   "outputs": [],
   "source": [
    "get_a_one()"
   ]
  },
  {
   "cell_type": "code",
   "execution_count": null,
   "metadata": {},
   "outputs": [],
   "source": [
    "how_many_times = []\n",
    "rounds = 10 ### try to change it to a large number\n",
    "for i in range(rounds):\n",
    "    how_many_times.append(get_a_one())\n",
    "    \n",
    "print('Average:', N(sum(how_many_times) / rounds, digits=2))\n",
    "how_many_times"
   ]
  },
  {
   "cell_type": "markdown",
   "metadata": {},
   "source": [
    "## 5. 圖論"
   ]
  },
  {
   "cell_type": "markdown",
   "metadata": {},
   "source": [
    "圖論裡裡的**圖**（graph）有點（vertex）和邊（edge）  \n",
    "點的位置並不重要"
   ]
  },
  {
   "cell_type": "markdown",
   "metadata": {},
   "source": [
    "以下兩個圖因為結構一樣，所以被視為是一樣的  \n",
    "這個圖叫做 $C_5$"
   ]
  },
  {
   "cell_type": "code",
   "execution_count": null,
   "metadata": {},
   "outputs": [],
   "source": [
    "graphs.CycleGraph(5)"
   ]
  },
  {
   "cell_type": "code",
   "execution_count": null,
   "metadata": {},
   "outputs": [],
   "source": [
    "g = graphs.CycleGraph(5)\n",
    "pos = {0: (0.0, 1.0),\n",
    " 3: (-0.9510565163, 0.3090169944),\n",
    " 1: (-0.5877852523, -0.8090169944),\n",
    " 4: (0.5877852523, -0.8090169944),\n",
    " 2: (0.9510565163, 0.3090169944)}\n",
    "g.set_pos(pos)\n",
    "g"
   ]
  },
  {
   "cell_type": "markdown",
   "metadata": {},
   "source": [
    "一個點的**度數**（degree）指的是連在這個點上的邊數  \n",
    "$C_5$ 上的每個點度數都是 2  \n",
    "這種圖叫作 2-regular\n",
    "\n",
    "如果一個圖的每個點度數都是 $r$  \n",
    "這個圖就是 $r$-**regular**"
   ]
  },
  {
   "cell_type": "markdown",
   "metadata": {},
   "source": [
    "下方的圖叫做 Petersen graph  \n",
    "它是 3-regular"
   ]
  },
  {
   "cell_type": "code",
   "execution_count": null,
   "metadata": {},
   "outputs": [],
   "source": [
    "graphs.PetersenGraph()"
   ]
  },
  {
   "cell_type": "markdown",
   "metadata": {},
   "source": [
    "圖上兩個點 $i$ 和 $j$ 的**矩離**  \n",
    "指的是從 $i$ 到 $j$ 最短要走幾步  \n",
    "記作 $\\operatorname{dist}(i,j)$"
   ]
  },
  {
   "cell_type": "markdown",
   "metadata": {},
   "source": [
    "在下方的圖中  \n",
    "$\\operatorname{dist}(0,2)=1$,  \n",
    "$\\operatorname{dist}(0,1)=1$,  \n",
    "$\\operatorname{dist}(1,3)=2$"
   ]
  },
  {
   "cell_type": "code",
   "execution_count": null,
   "metadata": {},
   "outputs": [],
   "source": [
    "g = graphs.CycleGraph(4)\n",
    "g.add_edge(0,2)\n",
    "g"
   ]
  },
  {
   "cell_type": "markdown",
   "metadata": {},
   "source": [
    "圖的**直徑**是圖上出現最長的距離  \n",
    "也就是 $\\operatorname{diam} = \\max_{i,j}\\operatorname{dist}(i,j)$  \n",
    "\n",
    "\n",
    "上方的圖直徑是 2  \n",
    "Petersen graph 的直徑是 2  \n",
    "$C_5$ 的直徑也是 2."
   ]
  },
  {
   "cell_type": "markdown",
   "metadata": {},
   "source": [
    "#### 性質\n",
    "如果一個圖是 $r$-regular 而且直徑是 $2$  \n",
    "那麼這個圖最多有 $1+r^2$ 個點  \n",
    "\n",
    "主要的原因是 $1+r^2 = 1 + r + r(r-1)$\n",
    "\n",
    "達到上界的圖叫作 **Moore graph**"
   ]
  },
  {
   "cell_type": "markdown",
   "metadata": {},
   "source": [
    "#### 定理 (Hoffman & Singleton)\n",
    "Moore graph 可能存在的情況**只有** $r=2,3,7,57$  \n",
    "（也就是 $n=5,10,50,3250$）\n",
    "\n",
    "$r=2$ 時只有 $C_5$  \n",
    "$r=3$ 時只有 Petersen graph  \n",
    "$r=7$ 時只有一個叫 Hoffman&ndash;Singleton graph 的圖  \n",
    "\n",
    "$r=57$ 時**還不知道**這樣的圖存不存在？"
   ]
  },
  {
   "cell_type": "code",
   "execution_count": null,
   "metadata": {},
   "outputs": [],
   "source": [
    "r = 2 \n",
    "n = 1 + r^2\n",
    "for g in graphs.nauty_geng(\"%s -d%s -D%s\"%(n,r,r)):\n",
    "    if g.diameter() == 2:\n",
    "        g.show()"
   ]
  },
  {
   "cell_type": "markdown",
   "metadata": {},
   "source": [
    "把它變成函數比較好處理  \n",
    "輸入 $r$，回傳一個圖"
   ]
  },
  {
   "cell_type": "code",
   "execution_count": null,
   "metadata": {},
   "outputs": [],
   "source": [
    "def find_Moore_graph(r):\n",
    "    n = 1 + r^2\n",
    "    for g in graphs.nauty_geng(\"%s -d%s -D%s\"%(n,r,r)):\n",
    "        if g.diameter() == 2:\n",
    "            return g"
   ]
  },
  {
   "cell_type": "code",
   "execution_count": null,
   "metadata": {},
   "outputs": [],
   "source": [
    "find_Moore_graph(2) ### 34 graphs on n = 5"
   ]
  },
  {
   "cell_type": "code",
   "execution_count": null,
   "metadata": {},
   "outputs": [],
   "source": [
    "find_Moore_graph(3) ### 12005168 graphs on n = 10"
   ]
  },
  {
   "cell_type": "code",
   "execution_count": null,
   "metadata": {},
   "outputs": [],
   "source": [
    "Find_Moore_graph(7) ### by brute-force about 10^368 graphs on n = 50"
   ]
  },
  {
   "cell_type": "code",
   "execution_count": null,
   "metadata": {},
   "outputs": [],
   "source": [
    "Find_Moore_graph(57) ### by brute-force about 10^1589325 graphs on n = 3250"
   ]
  },
  {
   "cell_type": "code",
   "execution_count": null,
   "metadata": {},
   "outputs": [],
   "source": []
  },
  {
   "cell_type": "code",
   "execution_count": null,
   "metadata": {},
   "outputs": [],
   "source": []
  },
  {
   "cell_type": "code",
   "execution_count": null,
   "metadata": {},
   "outputs": [],
   "source": []
  },
  {
   "cell_type": "code",
   "execution_count": null,
   "metadata": {},
   "outputs": [],
   "source": []
  },
  {
   "cell_type": "code",
   "execution_count": null,
   "metadata": {},
   "outputs": [],
   "source": []
  },
  {
   "cell_type": "code",
   "execution_count": null,
   "metadata": {},
   "outputs": [],
   "source": []
  },
  {
   "cell_type": "code",
   "execution_count": null,
   "metadata": {},
   "outputs": [],
   "source": []
  },
  {
   "cell_type": "code",
   "execution_count": null,
   "metadata": {},
   "outputs": [],
   "source": []
  },
  {
   "cell_type": "code",
   "execution_count": null,
   "metadata": {},
   "outputs": [],
   "source": []
  },
  {
   "cell_type": "code",
   "execution_count": null,
   "metadata": {},
   "outputs": [],
   "source": []
  },
  {
   "cell_type": "code",
   "execution_count": null,
   "metadata": {},
   "outputs": [],
   "source": []
  },
  {
   "cell_type": "code",
   "execution_count": null,
   "metadata": {},
   "outputs": [],
   "source": []
  },
  {
   "cell_type": "code",
   "execution_count": null,
   "metadata": {},
   "outputs": [],
   "source": []
  },
  {
   "cell_type": "code",
   "execution_count": null,
   "metadata": {},
   "outputs": [],
   "source": []
  },
  {
   "cell_type": "code",
   "execution_count": null,
   "metadata": {},
   "outputs": [],
   "source": []
  },
  {
   "cell_type": "code",
   "execution_count": null,
   "metadata": {},
   "outputs": [],
   "source": []
  },
  {
   "cell_type": "code",
   "execution_count": null,
   "metadata": {},
   "outputs": [],
   "source": []
  },
  {
   "cell_type": "code",
   "execution_count": null,
   "metadata": {},
   "outputs": [],
   "source": []
  },
  {
   "cell_type": "markdown",
   "metadata": {},
   "source": [
    "在 Sage 或 Python 裡，**大小寫是不一樣的！**"
   ]
  },
  {
   "cell_type": "code",
   "execution_count": null,
   "metadata": {},
   "outputs": [],
   "source": [
    "### Run this cell at the very beginning\n",
    "import time\n",
    "\n",
    "def Find_Moore_graph(r):\n",
    "    if r < 4:\n",
    "        return find_Moore_graph(r)\n",
    "    if r == 7:\n",
    "        time.sleep(10)\n",
    "        graphs.HoffmanSingletonGraph().show()\n",
    "    if r == 57:\n",
    "        time.sleep(20)\n",
    "        print(\"電腦不是奴隸，你們人類愛算自己去算...神經病\")"
   ]
  },
  {
   "cell_type": "code",
   "execution_count": null,
   "metadata": {},
   "outputs": [],
   "source": []
  },
  {
   "cell_type": "markdown",
   "metadata": {},
   "source": [
    "## Thanks for your attention.  Enjoy!"
   ]
  }
 ],
 "metadata": {
  "kernelspec": {
   "display_name": "SageMath (stable)",
   "language": "sagemath",
   "name": "sagemath"
  },
  "language_info": {
   "codemirror_mode": {
    "name": "ipython",
    "version": 2
   },
   "file_extension": ".py",
   "mimetype": "text/x-python",
   "name": "python",
   "nbconvert_exporter": "python",
   "pygments_lexer": "ipython2",
   "version": "2.7.15"
  }
 },
 "nbformat": 4,
 "nbformat_minor": 2
}
